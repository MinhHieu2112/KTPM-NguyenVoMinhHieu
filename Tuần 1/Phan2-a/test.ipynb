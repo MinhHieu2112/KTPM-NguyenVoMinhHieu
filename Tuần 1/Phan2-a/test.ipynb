{
 "cells": [
  {
   "cell_type": "code",
   "execution_count": 5,
   "id": "197c74cb",
   "metadata": {},
   "outputs": [
    {
     "name": "stdout",
     "output_type": "stream",
     "text": [
      "Writing caua_t1.inp\n"
     ]
    }
   ],
   "source": [
    "%%writefile caua_t1.inp \n",
    "9"
   ]
  },
  {
   "cell_type": "code",
   "execution_count": 2,
   "id": "916f5328",
   "metadata": {},
   "outputs": [
    {
     "name": "stdout",
     "output_type": "stream",
     "text": [
      "Writing caua_t2.inp\n"
     ]
    }
   ],
   "source": [
    "%%writefile caua_t2.inp\n",
    "10 "
   ]
  },
  {
   "cell_type": "code",
   "execution_count": 3,
   "id": "8b98449b",
   "metadata": {},
   "outputs": [
    {
     "name": "stdout",
     "output_type": "stream",
     "text": [
      "Writing caua_t3.inp\n"
     ]
    }
   ],
   "source": [
    "%%writefile caua_t3.inp\n",
    "11 "
   ]
  },
  {
   "cell_type": "code",
   "execution_count": 6,
   "id": "6e8d46fc",
   "metadata": {},
   "outputs": [
    {
     "name": "stdout",
     "output_type": "stream",
     "text": [
      "Expected: 18\n",
      "18\n",
      "Expected: -10\n",
      "-10\n",
      "Expected: -11\n",
      "-11\n"
     ]
    }
   ],
   "source": [
    "!g++ caua.cpp -o caua\n",
    "!./caua <caua_t1.inp >out1.txt\n",
    "!echo \"Expected: 18\"\n",
    "!cat out1.txt\n",
    "!./caua <caua_t2.inp >out2.txt\n",
    "!echo \"Expected: -10\"\n",
    "!cat out2.txt\n",
    "!./caua <caua_t3.inp >out3.txt\n",
    "!echo \"Expected: -11\"\n",
    "!cat out3.txt"
   ]
  }
 ],
 "metadata": {
  "kernelspec": {
   "display_name": "Python 3",
   "language": "python",
   "name": "python3"
  },
  "language_info": {
   "codemirror_mode": {
    "name": "ipython",
    "version": 3
   },
   "file_extension": ".py",
   "mimetype": "text/x-python",
   "name": "python",
   "nbconvert_exporter": "python",
   "pygments_lexer": "ipython3",
   "version": "3.8.10"
  }
 },
 "nbformat": 4,
 "nbformat_minor": 5
}
