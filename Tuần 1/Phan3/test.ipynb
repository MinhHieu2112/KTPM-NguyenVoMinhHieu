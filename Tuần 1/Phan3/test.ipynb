{
 "cells": [
  {
   "cell_type": "code",
   "execution_count": 5,
   "id": "f2223b0b",
   "metadata": {},
   "outputs": [
    {
     "name": "stdout",
     "output_type": "stream",
     "text": [
      "Overwriting cau3_t1.inp\n"
     ]
    }
   ],
   "source": [
    "%%writefile cau3_t1.inp\n",
    "0 0 0"
   ]
  },
  {
   "cell_type": "code",
   "execution_count": 1,
   "id": "8f19b69e",
   "metadata": {},
   "outputs": [
    {
     "name": "stdout",
     "output_type": "stream",
     "text": [
      "Writing cau3_t2.inp\n"
     ]
    }
   ],
   "source": [
    "%%writefile cau3_t2.inp\n",
    "0 0 5"
   ]
  },
  {
   "cell_type": "code",
   "execution_count": 2,
   "id": "da7fcbcd",
   "metadata": {},
   "outputs": [
    {
     "name": "stdout",
     "output_type": "stream",
     "text": [
      "Writing cau3_t3.inp\n"
     ]
    }
   ],
   "source": [
    "%%writefile cau3_t3.inp\n",
    "0 2 -8"
   ]
  },
  {
   "cell_type": "code",
   "execution_count": 3,
   "id": "49b8e6dd",
   "metadata": {},
   "outputs": [
    {
     "name": "stdout",
     "output_type": "stream",
     "text": [
      "Writing cau3_t4.inp\n"
     ]
    }
   ],
   "source": [
    "%%writefile cau3_t4.inp\n",
    "0 2 8"
   ]
  },
  {
   "cell_type": "code",
   "execution_count": 6,
   "id": "a210d62f",
   "metadata": {},
   "outputs": [
    {
     "name": "stdout",
     "output_type": "stream",
     "text": [
      "Writing cau3_t5.inp\n"
     ]
    }
   ],
   "source": [
    "%%writefile cau3_t5.inp\n",
    "1 2 3"
   ]
  },
  {
   "cell_type": "code",
   "execution_count": 7,
   "id": "a95d1d20",
   "metadata": {},
   "outputs": [
    {
     "name": "stdout",
     "output_type": "stream",
     "text": [
      "Writing cau3_t6.inp\n"
     ]
    }
   ],
   "source": [
    "%%writefile cau3_t6.inp\n",
    "1 2 1"
   ]
  },
  {
   "cell_type": "code",
   "execution_count": 8,
   "id": "5a2be4da",
   "metadata": {},
   "outputs": [
    {
     "name": "stdout",
     "output_type": "stream",
     "text": [
      "Writing cau3_t7.inp\n"
     ]
    }
   ],
   "source": [
    "%%writefile cau3_t7.inp\n",
    "1 -2 1"
   ]
  },
  {
   "cell_type": "code",
   "execution_count": 9,
   "id": "59a27ab1",
   "metadata": {},
   "outputs": [
    {
     "name": "stdout",
     "output_type": "stream",
     "text": [
      "Writing cau3_t8.inp\n"
     ]
    }
   ],
   "source": [
    "%%writefile cau3_t8.inp\n",
    "1 4 4"
   ]
  },
  {
   "cell_type": "code",
   "execution_count": 10,
   "id": "b8ad2f03",
   "metadata": {},
   "outputs": [
    {
     "name": "stdout",
     "output_type": "stream",
     "text": [
      "Writing cau3_t9.inp\n"
     ]
    }
   ],
   "source": [
    "%%writefile cau3_t9.inp\n",
    "1 0 -1"
   ]
  },
  {
   "cell_type": "code",
   "execution_count": 11,
   "id": "a8b44ffc",
   "metadata": {},
   "outputs": [
    {
     "name": "stdout",
     "output_type": "stream",
     "text": [
      "Writing cau3_t10.inp\n"
     ]
    }
   ],
   "source": [
    "%%writefile cau3_t10.inp\n",
    "1 -5 6"
   ]
  },
  {
   "cell_type": "code",
   "execution_count": 12,
   "id": "a0cd0c6f",
   "metadata": {},
   "outputs": [
    {
     "name": "stdout",
     "output_type": "stream",
     "text": [
      "Writing cau3_t11.inp\n"
     ]
    }
   ],
   "source": [
    "%%writefile cau3_t11.inp\n",
    "1 0 -4"
   ]
  },
  {
   "cell_type": "code",
   "execution_count": 13,
   "id": "86f9ef97",
   "metadata": {},
   "outputs": [
    {
     "name": "stdout",
     "output_type": "stream",
     "text": [
      "Writing cau3_t12.inp\n"
     ]
    }
   ],
   "source": [
    "%%writefile cau3_t12.inp\n",
    "1 -6 5"
   ]
  },
  {
   "cell_type": "code",
   "execution_count": 14,
   "id": "d437fb87",
   "metadata": {},
   "outputs": [
    {
     "name": "stdout",
     "output_type": "stream",
     "text": [
      "Expected: Infinite solution\n",
      " Infinite solutions.\n",
      "Expected: No solution\n",
      "No solution.\n",
      "Expected: The equation has 2 real solutions: 2, -2\n",
      " The equation has 2 real solution(s): 2 -2 \n",
      "Expected: No solution\n",
      "No solution.\n",
      "Expected: No solution\n",
      "No solution.\n",
      "Expected: No solution\n",
      "No solution.\n",
      "Expected: The equation has 2 real solutions: 1, -1\n",
      " The equation has 2 real solution(s): 1 -1 \n",
      "Expected: No solution\n",
      " The equation has 2 real solution(s): 2 -2 \n",
      "Expected: The equation has 2 real solutions: 1, -1\n",
      " The equation has 2 real solution(s): 1 -1 \n",
      "Expected: The equation has 2 real solutions: 1, -1\n",
      " The equation has 4 real solution(s): 1.73205 -1.73205 1.41421 -1.41421 \n",
      "Expected: The equation has 4 real solutions: 2 -2 1.41421 -1.41421\n",
      " The equation has 2 real solution(s): 1.41421 -1.41421 \n",
      "Expected: The equation has 4 real solutions: 2.23607 -2.23607 1 -1\n",
      " The equation has 4 real solution(s): 2.23607 -2.23607 1 -1 \n"
     ]
    }
   ],
   "source": [
    "!g++ cau3.cpp -o cau3\n",
    "!./cau3 <cau3_t1.inp >out1.txt\n",
    "!echo \"Expected: Infinite solution\"\n",
    "!cat out1.txt\n",
    "!./cau3 <cau3_t2.inp >out2.txt\n",
    "!echo \"Expected: No solution\"\n",
    "!cat out2.txt\n",
    "!./cau3 <cau3_t3.inp >out3.txt\n",
    "!echo \"Expected: The equation has 2 real solutions: 2, -2\"\n",
    "!cat out3.txt\n",
    "!./cau3 <cau3_t4.inp >out4.txt\n",
    "!echo \"Expected: No solution\"\n",
    "!cat out4.txt\n",
    "!./cau3 <cau3_t5.inp >out5.txt\n",
    "!echo \"Expected: No solution\"\n",
    "!cat out5.txt\n",
    "!./cau3 <cau3_t6.inp >out6.txt\n",
    "!echo \"Expected: No solution\"\n",
    "!cat out6.txt\n",
    "!./cau3 <cau3_t7.inp >out7.txt\n",
    "!echo \"Expected: The equation has 2 real solutions: 1, -1\"\n",
    "!cat out7.txt\n",
    "!./cau3 <cau3_t3.inp >out8.txt\n",
    "!echo \"Expected: No solution\"\n",
    "!cat out8.txt\n",
    "!./cau3 <cau3_t9.inp >out9.txt\n",
    "!echo \"Expected: The equation has 2 real solutions: 1, -1\"\n",
    "!cat out9.txt\n",
    "!./cau3 <cau3_t10.inp >out10.txt\n",
    "!echo \"Expected: The equation has 2 real solutions: 1, -1\"\n",
    "!cat out10.txt\n",
    "!./cau3 <cau3_t11.inp >out11.txt\n",
    "!echo \"Expected: The equation has 4 real solutions: 2 -2 1.41421 -1.41421\"\n",
    "!cat out11.txt\n",
    "!./cau3 <cau3_t12.inp >out12.txt\n",
    "!echo \"Expected: The equation has 4 real solutions: 2.23607 -2.23607 1 -1\"\n",
    "!cat out12.txt"
   ]
  }
 ],
 "metadata": {
  "kernelspec": {
   "display_name": "Python 3",
   "language": "python",
   "name": "python3"
  },
  "language_info": {
   "codemirror_mode": {
    "name": "ipython",
    "version": 3
   },
   "file_extension": ".py",
   "mimetype": "text/x-python",
   "name": "python",
   "nbconvert_exporter": "python",
   "pygments_lexer": "ipython3",
   "version": "3.8.10"
  }
 },
 "nbformat": 4,
 "nbformat_minor": 5
}
