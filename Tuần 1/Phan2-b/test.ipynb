{
 "cells": [
  {
   "cell_type": "code",
   "execution_count": 1,
   "id": "e91540fc",
   "metadata": {},
   "outputs": [
    {
     "name": "stdout",
     "output_type": "stream",
     "text": [
      "Writing caub_t1.inp\n"
     ]
    }
   ],
   "source": [
    "%%writefile caub_t1.inp\n",
    "11"
   ]
  },
  {
   "cell_type": "code",
   "execution_count": 2,
   "id": "fb34ae6e",
   "metadata": {},
   "outputs": [
    {
     "name": "stdout",
     "output_type": "stream",
     "text": [
      "Writing caub_t2.inp\n"
     ]
    }
   ],
   "source": [
    "%%writefile caub_t2.inp\n",
    "10"
   ]
  },
  {
   "cell_type": "code",
   "execution_count": 3,
   "id": "49ed6311",
   "metadata": {},
   "outputs": [
    {
     "name": "stdout",
     "output_type": "stream",
     "text": [
      "Writing caub_t3.inp\n"
     ]
    }
   ],
   "source": [
    "%%writefile caub_t3.inp\n",
    "5"
   ]
  },
  {
   "cell_type": "code",
   "execution_count": 4,
   "id": "daf49c67",
   "metadata": {},
   "outputs": [
    {
     "name": "stdout",
     "output_type": "stream",
     "text": [
      "Writing caub_t4.inp\n"
     ]
    }
   ],
   "source": [
    "%%writefile caub_t4.inp\n",
    "0"
   ]
  },
  {
   "cell_type": "code",
   "execution_count": 5,
   "id": "3b819c18",
   "metadata": {},
   "outputs": [
    {
     "name": "stdout",
     "output_type": "stream",
     "text": [
      "Writing caub_t5.inp\n"
     ]
    }
   ],
   "source": [
    "%%writefile caub_t5.inp\n",
    "-3"
   ]
  },
  {
   "cell_type": "code",
   "execution_count": 7,
   "id": "09e2b934",
   "metadata": {},
   "outputs": [
    {
     "name": "stdout",
     "output_type": "stream",
     "text": [
      "Expected: 22\n",
      "22\n",
      "Expected: -10\n",
      "-10\n",
      "Expected: -5\n",
      "-5\n",
      "Expected: 0\n",
      "0\n",
      "Expected: -6\n",
      "-6\n"
     ]
    }
   ],
   "source": [
    "!g++ caub.cpp -o caub\n",
    "!./caub <caub_t1.inp >out1.txt\n",
    "!echo \"Expected: 22\"\n",
    "!cat out1.txt\n",
    "!./caub <caub_t2.inp >out2.txt\n",
    "!echo \"Expected: -10\"\n",
    "!cat out2.txt\n",
    "!./caub <caub_t3.inp >out3.txt\n",
    "!echo \"Expected: -5\"\n",
    "!cat out3.txt\n",
    "!./caub <caub_t4.inp >out4.txt\n",
    "!echo \"Expected: 0\"\n",
    "!cat out4.txt\n",
    "!./caub <caub_t5.inp >out5.txt\n",
    "!echo \"Expected: -6\"\n",
    "!cat out5.txt"
   ]
  }
 ],
 "metadata": {
  "kernelspec": {
   "display_name": "Python 3",
   "language": "python",
   "name": "python3"
  },
  "language_info": {
   "codemirror_mode": {
    "name": "ipython",
    "version": 3
   },
   "file_extension": ".py",
   "mimetype": "text/x-python",
   "name": "python",
   "nbconvert_exporter": "python",
   "pygments_lexer": "ipython3",
   "version": "3.8.10"
  }
 },
 "nbformat": 4,
 "nbformat_minor": 5
}
