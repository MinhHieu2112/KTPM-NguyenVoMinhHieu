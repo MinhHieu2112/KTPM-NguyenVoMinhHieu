{
 "cells": [
  {
   "cell_type": "code",
   "execution_count": 1,
   "id": "ac455c98",
   "metadata": {},
   "outputs": [
    {
     "name": "stdout",
     "output_type": "stream",
     "text": [
      "Writing caud_t1.inp\n"
     ]
    }
   ],
   "source": [
    "%%writefile caud_t1.inp\n",
    "1"
   ]
  },
  {
   "cell_type": "code",
   "execution_count": 1,
   "id": "2aee29b0",
   "metadata": {},
   "outputs": [
    {
     "name": "stdout",
     "output_type": "stream",
     "text": [
      "Expected: 2\n",
      "2\n"
     ]
    }
   ],
   "source": [
    "!g++ caud.cpp -o caud\n",
    "!./caud <caud_t1.inp >out1.txt\n",
    "!echo \"Expected: 2\"\n",
    "!cat out1.txt"
   ]
  }
 ],
 "metadata": {
  "kernelspec": {
   "display_name": "Python 3",
   "language": "python",
   "name": "python3"
  },
  "language_info": {
   "codemirror_mode": {
    "name": "ipython",
    "version": 3
   },
   "file_extension": ".py",
   "mimetype": "text/x-python",
   "name": "python",
   "nbconvert_exporter": "python",
   "pygments_lexer": "ipython3",
   "version": "3.8.10"
  }
 },
 "nbformat": 4,
 "nbformat_minor": 5
}
