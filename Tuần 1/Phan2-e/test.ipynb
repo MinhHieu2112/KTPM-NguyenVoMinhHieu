{
 "cells": [
  {
   "cell_type": "code",
   "execution_count": 6,
   "id": "44e7f0f9",
   "metadata": {},
   "outputs": [
    {
     "name": "stdout",
     "output_type": "stream",
     "text": [
      "Overwriting caue_t1.inp\n"
     ]
    }
   ],
   "source": [
    "%%writefile caue_t1.inp\n",
    "3 2 1"
   ]
  },
  {
   "cell_type": "code",
   "execution_count": 2,
   "id": "d8bfe6de",
   "metadata": {},
   "outputs": [
    {
     "name": "stdout",
     "output_type": "stream",
     "text": [
      "Writing caue_t2.inp\n"
     ]
    }
   ],
   "source": [
    "%%writefile caue_t2.inp\n",
    "2 3 1"
   ]
  },
  {
   "cell_type": "code",
   "execution_count": 3,
   "id": "c4f9f7d2",
   "metadata": {},
   "outputs": [
    {
     "name": "stdout",
     "output_type": "stream",
     "text": [
      "Writing caue_t3.inp\n"
     ]
    }
   ],
   "source": [
    "%%writefile caue_t3.inp\n",
    "2 1 3"
   ]
  },
  {
   "cell_type": "code",
   "execution_count": 9,
   "id": "8861cd1e",
   "metadata": {},
   "outputs": [
    {
     "name": "stdout",
     "output_type": "stream",
     "text": [
      "Writing caue_t4.inp\n"
     ]
    }
   ],
   "source": [
    "%%writefile caue_t4.inp\n",
    "3 3 1"
   ]
  },
  {
   "cell_type": "code",
   "execution_count": 10,
   "id": "818bf3d9",
   "metadata": {},
   "outputs": [
    {
     "name": "stdout",
     "output_type": "stream",
     "text": [
      "Writing caue_t5.inp\n"
     ]
    }
   ],
   "source": [
    "%%writefile caue_t5.inp\n",
    "3 1 3"
   ]
  },
  {
   "cell_type": "code",
   "execution_count": 7,
   "id": "e24cad75",
   "metadata": {},
   "outputs": [
    {
     "name": "stdout",
     "output_type": "stream",
     "text": [
      "Writing caue_t6.inp\n"
     ]
    }
   ],
   "source": [
    "%%writefile caue_t6.inp\n",
    "1 3 3"
   ]
  },
  {
   "cell_type": "code",
   "execution_count": 8,
   "id": "a267ec35",
   "metadata": {},
   "outputs": [
    {
     "name": "stdout",
     "output_type": "stream",
     "text": [
      "Writing caue_t7.inp\n"
     ]
    }
   ],
   "source": [
    "%%writefile caue_t7.inp\n",
    "3 3 3"
   ]
  },
  {
   "cell_type": "code",
   "execution_count": 11,
   "id": "ac7f1472",
   "metadata": {},
   "outputs": [
    {
     "name": "stdout",
     "output_type": "stream",
     "text": [
      "Expected: 3\n",
      "3\n",
      "Expected: 3\n",
      "3\n",
      "Expected: 3\n",
      "3\n",
      "Expected: 0\n",
      "0\n",
      "Expected: 0\n",
      "0\n",
      "Expected: 0\n",
      "0\n",
      "Expected: 0\n",
      "0\n"
     ]
    }
   ],
   "source": [
    "!g++ caue.cpp -o caue\n",
    "!./caue <caue_t1.inp >out1.txt\n",
    "!echo \"Expected: 3\"\n",
    "!cat out1.txt\n",
    "!./caue <caue_t2.inp >out2.txt\n",
    "!echo \"Expected: 3\"\n",
    "!cat out2.txt\n",
    "!./caue <caue_t3.inp >out3.txt\n",
    "!echo \"Expected: 3\"\n",
    "!cat out3.txt\n",
    "!./caue <caue_t4.inp >out4.txt\n",
    "!echo \"Expected: 0\"\n",
    "!cat out4.txt\n",
    "!./caue <caue_t5.inp >out5.txt\n",
    "!echo \"Expected: 0\"\n",
    "!cat out5.txt\n",
    "!./caue <caue_t6.inp >out6.txt\n",
    "!echo \"Expected: 0\"\n",
    "!cat out6.txt\n",
    "!./caue <caue_t7.inp >out7.txt\n",
    "!echo \"Expected: 0\"\n",
    "!cat out7.txt"
   ]
  }
 ],
 "metadata": {
  "kernelspec": {
   "display_name": "Python 3",
   "language": "python",
   "name": "python3"
  },
  "language_info": {
   "codemirror_mode": {
    "name": "ipython",
    "version": 3
   },
   "file_extension": ".py",
   "mimetype": "text/x-python",
   "name": "python",
   "nbconvert_exporter": "python",
   "pygments_lexer": "ipython3",
   "version": "3.8.10"
  }
 },
 "nbformat": 4,
 "nbformat_minor": 5
}
