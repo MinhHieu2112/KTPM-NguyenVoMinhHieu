{
 "cells": [
  {
   "cell_type": "code",
   "execution_count": 2,
   "id": "83dd83ac",
   "metadata": {},
   "outputs": [
    {
     "name": "stdout",
     "output_type": "stream",
     "text": [
      "Writing cauc_t1.inp\n"
     ]
    }
   ],
   "source": [
    "%%writefile cauc_t1.inp\n",
    "9"
   ]
  },
  {
   "cell_type": "code",
   "execution_count": 3,
   "id": "52542336",
   "metadata": {},
   "outputs": [
    {
     "name": "stdout",
     "output_type": "stream",
     "text": [
      "Writing cauc_t2.inp\n"
     ]
    }
   ],
   "source": [
    "%%writefile cauc_t2.inp\n",
    "10"
   ]
  },
  {
   "cell_type": "code",
   "execution_count": 4,
   "id": "4c38c095",
   "metadata": {},
   "outputs": [
    {
     "name": "stdout",
     "output_type": "stream",
     "text": [
      "Writing cauc_t3.inp\n"
     ]
    }
   ],
   "source": [
    "%%writefile cauc_t3.inp\n",
    "11"
   ]
  },
  {
   "cell_type": "code",
   "execution_count": 1,
   "id": "6165306e",
   "metadata": {},
   "outputs": [
    {
     "name": "stdout",
     "output_type": "stream",
     "text": [
      "Expected: 18\n",
      "18\n",
      "Expected: 20\n",
      "20\n",
      "Expected: 22\n",
      "22\n"
     ]
    }
   ],
   "source": [
    "!g++ cauc.cpp -o cauc\n",
    "!./cauc <cauc_t1.inp >out1.txt\n",
    "!echo \"Expected: 18\"\n",
    "!cat out1.txt\n",
    "!./cauc <cauc_t2.inp >out2.txt\n",
    "!echo \"Expected: 20\"\n",
    "!cat out2.txt\n",
    "!./cauc <cauc_t3.inp >out3.txt\n",
    "!echo \"Expected: 22\"\n",
    "!cat out3.txt"
   ]
  }
 ],
 "metadata": {
  "kernelspec": {
   "display_name": "Python 3",
   "language": "python",
   "name": "python3"
  },
  "language_info": {
   "codemirror_mode": {
    "name": "ipython",
    "version": 3
   },
   "file_extension": ".py",
   "mimetype": "text/x-python",
   "name": "python",
   "nbconvert_exporter": "python",
   "pygments_lexer": "ipython3",
   "version": "3.8.10"
  }
 },
 "nbformat": 4,
 "nbformat_minor": 5
}
